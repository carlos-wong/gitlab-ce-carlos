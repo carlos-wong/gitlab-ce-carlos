{
 "cells": [
  {
   "cell_type": "code",
   "id": "5",
   "metadata": {
   },
   "outputs": [
    {
     "data": {
      "image/png": [
        "this_is_an_invalid_hash_for_testing_purposes"
      ]
     },
     "output_type": "display_data"
    }
   ],
   "source": [
    "Some Image"
   ]
  }
 ],
 "metadata": {
 }
}
