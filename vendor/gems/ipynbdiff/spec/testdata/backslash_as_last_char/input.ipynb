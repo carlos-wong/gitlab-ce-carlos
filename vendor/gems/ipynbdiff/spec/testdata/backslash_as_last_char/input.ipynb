{
 "cells": [
  {
   "cell_type": "markdown",
   "source": [
    "\\"
   ]
  },
  {
   "cell_type": "markdown",
   "source": [
    "a"
   ]
  }
 ]
}
