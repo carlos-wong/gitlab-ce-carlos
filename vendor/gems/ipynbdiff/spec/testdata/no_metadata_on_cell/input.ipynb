{
 "cells": [
   {
    "cell_type": "markdown",
    "id": "1",
    "source": [
     "# A\n",
     "\n",
     "B"
    ]
   },
   {
    "cell_type": "code",
    "execution_count": 1,
    "id": "3",
    "outputs": [],
    "source": [
     "import pandas as pd\n",
     "import numpy as np\n",
     "import matplotlib.pyplot as plt"
    ]
   }
 ],
 "metadata": {
  "kernelspec": {
   "language": "python"
  }
 }
}
