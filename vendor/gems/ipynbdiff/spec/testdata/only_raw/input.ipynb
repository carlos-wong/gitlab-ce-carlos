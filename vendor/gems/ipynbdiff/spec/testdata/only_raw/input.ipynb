{
 "cells": [
  {
   "cell_type": "raw",
   "id": "2",
   "metadata": {},
   "source": [
    "A\n",
    "B"
   ]
  }
 ],
 "metadata": {
 }
}
