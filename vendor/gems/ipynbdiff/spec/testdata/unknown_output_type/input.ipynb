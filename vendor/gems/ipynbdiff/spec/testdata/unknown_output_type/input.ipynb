{
 "cells": [
  {
   "cell_type": "code",
   "execution_count": 1,
   "id": "123",
   "metadata": {},
   "outputs": [
    {
     "name": "stdout",
     "output_type": "unknown_output",
     "text": [
      "G'bye\n"
     ]
    }
   ],
   "source": [
    "print(\"G'bye\")"
   ]
  }
 ],
 "metadata": {
  "kernelspec": {
   "language": "python"
  }
 }
}
