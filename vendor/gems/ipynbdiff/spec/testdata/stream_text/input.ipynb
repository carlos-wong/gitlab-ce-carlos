{
 "cells": [
  {
   "cell_type": "code",
   "execution_count": 1,
   "id": "123",
   "metadata": {},
   "outputs": [
    {
     "name": "stdout",
     "output_type": "stream",
     "text": [
      "G'bye\n"
     ]
    }
   ],
   "source": [
    "print(\"G'bye\")"
   ]
  }
 ],
 "metadata": {
  "kernelspec": {
   "language": "python"
  }
 }
}
