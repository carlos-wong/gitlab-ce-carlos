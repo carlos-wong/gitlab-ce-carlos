{
 "cells": [
  {
   "cell_type": "code",
   "id": "5",
   "metadata": {
    "tags": [
     "senoid"
    ]
   },
   "outputs": [
    {
     "data": {
      "text/plain": [
       "[<matplotlib.lines.Line2D at 0x12a4e43d0>]"
      ]
     },
     "output_type": "execute_result"
    }
   ],
   "source": [
    "plt.plot(x, y)"
   ]
  }
 ],
 "metadata": {
  "kernelspec": {
   "language": "python"
  }
 }
}
