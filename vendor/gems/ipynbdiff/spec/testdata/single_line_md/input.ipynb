{
 "cells": [
   {
    "cell_type": "markdown",
    "id": "1",
    "metadata": {
     "tags": [
        "hello",
        "world"
     ]
    },
    "source": "A"
   }
 ],
 "metadata": {
 }
}
