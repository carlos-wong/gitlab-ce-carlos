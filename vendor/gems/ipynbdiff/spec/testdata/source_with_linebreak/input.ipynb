{
  "metadata": {
  },
  "cells": [
    {
      "cell_type": "markdown",
      "source": "> This is a test\n>\n> To see if I can duplicate my bug",
      "metadata": {}
    }
  ]
}
